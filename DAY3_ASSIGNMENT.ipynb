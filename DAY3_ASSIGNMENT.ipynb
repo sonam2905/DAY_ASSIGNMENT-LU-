{
 "cells": [
  {
   "cell_type": "code",
   "execution_count": 3,
   "metadata": {},
   "outputs": [
    {
     "name": "stdout",
     "output_type": "stream",
     "text": [
      "[ 2  5  8 11 14 17 20 23 26 29 32 35 38 41 44 47]\n"
     ]
    }
   ],
   "source": [
    "#1.\n",
    "\n",
    "import numpy as np\n",
    "arr = np.arange(2, 50, 3)\n",
    "print(arr)"
   ]
  },
  {
   "cell_type": "code",
   "execution_count": 4,
   "metadata": {},
   "outputs": [
    {
     "name": "stdout",
     "output_type": "stream",
     "text": [
      "enter 5 values2 3 4 5 6 \n",
      "enter 5 values4 3 5 6 7 8\n",
      "[2 3 4 5 6 4 3 5 6 7]\n",
      "[2 3 3 4 4 5 5 6 6 7]\n"
     ]
    }
   ],
   "source": [
    "#2.\n",
    "\n",
    "import numpy as np\n",
    "list1=list(map(int,input(\"enter 5 values\").split()))[:5]\n",
    "list2=list(map(int,input(\"enter 5 values\").split()))[:5]\n",
    "a = np.array(list1)\n",
    "b = np.array(list2)\n",
    "c=np.concatenate((a, b), axis=0)\n",
    "print(c)\n",
    "print(np.sort(c))"
   ]
  },
  {
   "cell_type": "code",
   "execution_count": 5,
   "metadata": {},
   "outputs": [
    {
     "name": "stdout",
     "output_type": "stream",
     "text": [
      "[0 1 2]\n",
      "[[ 0  1  2  3]\n",
      " [ 4  5  6  7]\n",
      " [ 8  9 10 11]]\n",
      "1\n",
      "2\n",
      "3\n"
     ]
    }
   ],
   "source": [
    "#3.\n",
    "\n",
    "a = np.arange(3)\n",
    "print(a)\n",
    "a1 = np.arange(12).reshape((3, 4))\n",
    "print(a1)\n",
    "print(a.ndim)\n",
    "print(a1.ndim)\n",
    "print(a.size)"
   ]
  },
  {
   "cell_type": "code",
   "execution_count": 6,
   "metadata": {},
   "outputs": [
    {
     "name": "stdout",
     "output_type": "stream",
     "text": [
      "(1, 1)\n",
      "(1, 1, 1, 1, 1)\n",
      "(3, 1, 4)\n"
     ]
    }
   ],
   "source": [
    "#4.\n",
    "\n",
    "import numpy as np\n",
    "arr = np.arange(1*1).reshape(1, 1) \n",
    "print(arr.shape) \n",
    "arr_2D = arr[np.newaxis, ..., np.newaxis, np.newaxis] \n",
    "  \n",
    "print(arr_2D.shape)\n",
    "\n",
    "x = np.zeros((3, 4)) \n",
    "y = np.expand_dims(x, axis=1).shape \n",
    "print(y) "
   ]
  },
  {
   "cell_type": "code",
   "execution_count": 7,
   "metadata": {},
   "outputs": [
    {
     "name": "stdout",
     "output_type": "stream",
     "text": [
      "Horizontal Append: [1 2 3 4 5 6 7 8]\n",
      "Vertical Append: [[1 2 3 4]\n",
      " [5 6 7 8]]\n"
     ]
    }
   ],
   "source": [
    "#5.\n",
    "\n",
    "## Horitzontal Stack\n",
    "import numpy as np\n",
    "m = np.array([1,2,3,4])\n",
    "n = np.array([5,6,7,8])\n",
    "\n",
    "print('Horizontal Append:', np.hstack((m, n)))\n",
    "\n",
    "## Vertical Stack\n",
    "import numpy as np\n",
    "s = np.array([1,2,3,4])\n",
    "t = np.array([5,6,7,8])\n",
    "\n",
    "print('Vertical Append:', np.vstack((s, t)))"
   ]
  },
  {
   "cell_type": "code",
   "execution_count": 8,
   "metadata": {},
   "outputs": [
    {
     "name": "stdout",
     "output_type": "stream",
     "text": [
      "Original array:\n",
      "[ 20  10  20  10  20  30  20  30  30  50  40  40  50 100 100]\n",
      "Frequency of unique values of the said array:\n",
      "[[ 10  20  30  40  50 100]\n",
      " [  2   4   3   2   2   2]]\n"
     ]
    }
   ],
   "source": [
    "import numpy as np\n",
    "a = np.array( [20,10,20,10,20,30,20,30, 30,50,40,40,50,100,100] )\n",
    "print(\"Original array:\")\n",
    "print(a)\n",
    "unique_elements, counts_elements = np.unique(a, return_counts=True)\n",
    "print(\"Frequency of unique values of the said array:\")\n",
    "print(np.asarray((unique_elements, counts_elements)))"
   ]
  },
  {
   "cell_type": "code",
   "execution_count": null,
   "metadata": {},
   "outputs": [],
   "source": []
  }
 ],
 "metadata": {
  "kernelspec": {
   "display_name": "Python 3",
   "language": "python",
   "name": "python3"
  },
  "language_info": {
   "codemirror_mode": {
    "name": "ipython",
    "version": 3
   },
   "file_extension": ".py",
   "mimetype": "text/x-python",
   "name": "python",
   "nbconvert_exporter": "python",
   "pygments_lexer": "ipython3",
   "version": "3.7.0"
  }
 },
 "nbformat": 4,
 "nbformat_minor": 4
}
